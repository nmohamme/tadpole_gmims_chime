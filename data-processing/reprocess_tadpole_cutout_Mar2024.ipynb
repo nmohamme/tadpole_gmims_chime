{
 "cells": [
  {
   "cell_type": "code",
   "execution_count": null,
   "id": "86a7e556-719f-4846-aac3-98c5764d198f",
   "metadata": {},
   "outputs": [],
   "source": [
    "import matplotlib.pyplot as plt\n",
    "import matplotlib as mpl\n",
    "import h5py\n",
    "import os\n",
    "from astropy.wcs import WCS\n",
    "from reproject import reproject_interp\n",
    "import numpy as np\n",
    "from matplotlib.ticker import MultipleLocator\n",
    "from matplotlib.colors import LogNorm\n",
    "import astropy.io.fits as fits\n",
    "from reproject import reproject_from_healpix\n",
    "from matplotlib import cm\n",
    "from reproject import reproject_to_healpix\n",
    "from astropy_healpix import HEALPix\n",
    "from astropy.coordinates import SkyCoord\n",
    "from astropy.coordinates import ICRS, Galactic\n",
    "from astropy import units as u\n",
    "import copy\n",
    "from mpl_toolkits.axes_grid1 import make_axes_locatable\n",
    "import gc\n",
    "from astropy.nddata import Cutout2D"
   ]
  },
  {
   "cell_type": "markdown",
   "id": "249fc884-86e7-417f-8c33-bfd2c254f079",
   "metadata": {},
   "source": [
    "## 1) Mask bad frequencies"
   ]
  },
  {
   "cell_type": "code",
   "execution_count": null,
   "id": "d82d1106-ae92-46e6-b145-02e71e508b11",
   "metadata": {},
   "outputs": [],
   "source": [
    "freq_masking = False"
   ]
  },
  {
   "cell_type": "code",
   "execution_count": null,
   "id": "57580059-a225-471d-87a8-9ddbfe2f847e",
   "metadata": {},
   "outputs": [],
   "source": [
    "if freq_masking:\n",
    "\n",
    "    #hduQ = fits.open('/srv/data/chime/chime_IQUV_Mar2024_400_729/Q_400_729_Mar2024_new_gal.fits')\n",
    "    #hdrQ = hduQ[0].header\n",
    "    #Q = hduQ[0].data\n",
    "    \n",
    "    #hduU = fits.open('/srv/data/chime/chime_IQUV_Mar2024_400_729/U_400_729_Mar2024_new_gal.fits')\n",
    "    #hdrU = hduU[0].header\n",
    "    #U = hduU[0].data\n",
    "\n",
    "    hduV = fits.open('/srv/data/chime/chime_IQUV_Mar2024_400_729/V_400_729_Mar2024_new_gal.fits')\n",
    "    hdrV = hduV[0].header\n",
    "    V = hduV[0].data\n",
    "\n",
    "    # This is based on the October 2023 version, which was stitched together\n",
    "    # from various subsets of the full band (CHIME_RMsynth_Sep2023.ipynb),\n",
    "    # with the addition of channel 721, which was found to also be bad.\n",
    "    # These indices work for the 729 - 400 MHz range. Add 180 to get indices\n",
    "    # for 400 - 800 MHz, and get additional flags for 729 - 800 MHz.\n",
    "    \n",
    "    idx_bad = np.array([4, 6, 25, 67, 68, 76, 78, 82, 83, 91, 92, 95, 96, 115, 139, \n",
    "               147, 148, 157, 191, 192, 203, 204, 222, 262, 281, 323, 324,\n",
    "               332, 334, 433, 442, 447, 448, 516, 518, 526, 527, 528, 529, \n",
    "               530, 531, 532, 533, 534, 535, 536, 537, 538, 539, 540, 541, \n",
    "               542, 543, 544, 545, 546, 547, 548, 549, 550, 551, 552, 568, \n",
    "               569, 570, 571, 572, 595, 596, 597, 598, 599, 600, 601, 620, \n",
    "               621, 622, 623, 624, 625, 632, 633, 634, 651, 656, 657, 658, \n",
    "               659, 663, 666, 669, 678, 689, 698, 707, 712, 719, 720, 721,\n",
    "               730, 722, 723, 724, 726, 734, 757, 774, 784, 785, 786, 787, \n",
    "               788, 799, 800, 836])"
   ]
  },
  {
   "cell_type": "code",
   "execution_count": null,
   "id": "54269ae0-4b26-4edc-b910-ec823c80d4fd",
   "metadata": {},
   "outputs": [],
   "source": [
    "if freq_masking:\n",
    "\n",
    "    #Q[idx_bad] = np.nan\n",
    "    #U[idx_bad] = np.nan\n",
    "    V[idx_bad] = np.nan\n",
    "    \n",
    "    #fits.writeto('/srv/data/chime/chime_IQUV_Mar2024_400_729/Q_400_729_Mar2024_new_gal_fix.fits',\n",
    "    #             Q,header=hdrQ,overwrite=True,output_verify='fix')\n",
    "    \n",
    "    #fits.writeto('/srv/data/chime/chime_IQUV_Mar2024_400_729/U_400_729_Mar2024_new_gal_fix.fits',\n",
    "    #             U,header=hdrU,overwrite=True,output_verify='fix')\n",
    "\n",
    "    fits.writeto('/srv/data/chime/chime_IQUV_Mar2024_400_729/V_400_729_Mar2024_new_gal_fix.fits',\n",
    "                 V,header=hdrV,overwrite=True,output_verify='fix')\n",
    "\n",
    "    #del Q\n",
    "    #del U\n",
    "    del V\n",
    "    #del hduQ\n",
    "    #del hduU\n",
    "    del hduV\n",
    "    gc.collect()"
   ]
  },
  {
   "cell_type": "markdown",
   "id": "003f6068-8dc3-424f-b7ac-a552cdf94afd",
   "metadata": {},
   "source": [
    "## 2) Check the Q and U maps"
   ]
  },
  {
   "cell_type": "code",
   "execution_count": null,
   "id": "e2774b7f-9832-46be-9d47-be4795d6b630",
   "metadata": {},
   "outputs": [],
   "source": [
    "QU_checks = False"
   ]
  },
  {
   "cell_type": "code",
   "execution_count": null,
   "id": "21b0000f-0cd3-440a-941f-03b0ea9b9018",
   "metadata": {},
   "outputs": [],
   "source": [
    "if QU_checks:\n",
    "\n",
    "    hduQ_new = fits.open('/srv/data/chime/chime_IQUV_Mar2024_400_729/Q_400_729_Mar2024_new_gal.fits')\n",
    "    hduU_new = fits.open('/srv/data/chime/chime_IQUV_Mar2024_400_729/U_400_729_Mar2024_new_gal.fits')\n",
    "    hduQ_old = fits.open('/srv/data/chime/chime_QU_Oct2023_400_729/Q_400_729_Oct2023_new_gal_fix.fits')\n",
    "    hduU_old = fits.open('/srv/data/chime/chime_QU_Oct2023_400_729/U_400_729_Oct2023_new_gal_fix.fits')\n",
    "    hdr = hduQ_new[0].header\n",
    "    freq = WCS(hdr).all_pix2world(0,0,range(hduQ_new[0].data.shape[0]),0)[2]\n",
    "    print(freq)"
   ]
  },
  {
   "cell_type": "code",
   "execution_count": null,
   "id": "a37ebff4-e419-4f42-ae13-2121f7315130",
   "metadata": {},
   "outputs": [],
   "source": [
    "if QU_checks:\n",
    "    #######################\n",
    "    idx = 780\n",
    "    lon_range = [180,90]\n",
    "    lat_range = [-20,30]\n",
    "    fs = 12\n",
    "    vmax = 3\n",
    "    #######################\n",
    "    \n",
    "    crange = SkyCoord(lon_range, lat_range, frame=Galactic, unit=(u.deg, u.deg))\n",
    "    wcs = WCS(hdr).dropaxis(2).celestial\n",
    "    \n",
    "    fig = plt.figure(figsize=(16,12))\n",
    "    ax1 = fig.add_subplot(321, projection=wcs.celestial)\n",
    "    ax2 = fig.add_subplot(322, projection=wcs.celestial)\n",
    "    ax3 = fig.add_subplot(323, projection=wcs.celestial)\n",
    "    ax4 = fig.add_subplot(324, projection=wcs.celestial)\n",
    "    ax5 = fig.add_subplot(325, projection=wcs.celestial)\n",
    "    ax6 = fig.add_subplot(326, projection=wcs.celestial)\n",
    "    \n",
    "    im1 = ax1.imshow(hduQ_old[0].data[idx],vmin=-vmax,vmax=vmax,cmap='RdBu_r')\n",
    "    im2 = ax2.imshow(hduU_old[0].data[idx],vmin=-vmax,vmax=vmax,cmap='RdBu_r')\n",
    "    im3 = ax3.imshow(hduQ_new[0].data[idx],vmin=-vmax,vmax=vmax,cmap='RdBu_r')\n",
    "    im4 = ax4.imshow(hduU_new[0].data[idx],vmin=-vmax,vmax=vmax,cmap='RdBu_r')\n",
    "    im5 = ax5.imshow(hduQ_new[0].data[idx]-hduQ_old[0].data[idx],vmin=-vmax,vmax=vmax,cmap='RdBu_r')\n",
    "    im6 = ax6.imshow(hduU_new[0].data[idx]-hduU_old[0].data[idx],vmin=-vmax,vmax=vmax,cmap='RdBu_r')\n",
    "    \n",
    "    titles = ['Q old','U old','Q new','U new','Q new - old','U new - old']\n",
    "    axs = [ax1,ax2,ax3,ax4,ax5,ax6]\n",
    "    ims = [im1,im2,im3,im4,im5,im6]\n",
    "    \n",
    "    for i in range(0,len(axs)):\n",
    "        axs[i].set_ylim(wcs.world_to_pixel(crange)[1])\n",
    "        axs[i].set_xlim(wcs.world_to_pixel(crange)[0])\n",
    "        cbar = fig.colorbar(ims[i], ax=axs[i], shrink=1, pad=0.01)\n",
    "        axs[i].set_title(titles[i]+' '+str(np.round(freq[idx]/1e6,3))+' MHz',fontsize=fs)\n",
    "        axs[i].set_xlabel(' ')\n",
    "        axs[i].set_ylabel(' ')"
   ]
  },
  {
   "cell_type": "code",
   "execution_count": null,
   "id": "41073233-0294-417b-bb1a-fcb2912e8ee5",
   "metadata": {},
   "outputs": [],
   "source": [
    "if QU_checks:\n",
    "    del hduQ_new\n",
    "    del hduU_new\n",
    "    del hduQ_old\n",
    "    del hduU_old\n",
    "    gc.collect()"
   ]
  },
  {
   "cell_type": "markdown",
   "id": "d81d0d7c-be6f-42a8-9dd2-517bfc8e57c6",
   "metadata": {},
   "source": [
    "## 3) Make tadpole cutout"
   ]
  },
  {
   "cell_type": "code",
   "execution_count": null,
   "id": "1ca732b6-5b03-40f1-b6f8-6f67df83ba04",
   "metadata": {},
   "outputs": [],
   "source": [
    "cutout = False"
   ]
  },
  {
   "cell_type": "code",
   "execution_count": null,
   "id": "aab3d19b-bf4d-43d5-8a75-a17375d5b1f5",
   "metadata": {},
   "outputs": [],
   "source": [
    "if cutout:\n",
    "\n",
    "    #hdu_Q = fits.open('/srv/data/chime/chime_IQUV_Mar2024_400_729/Q_400_729_Mar2024_new_gal_fix.fits')\n",
    "    #hdu_U = fits.open('/srv/data/chime/chime_IQUV_Mar2024_400_729/U_400_729_Mar2024_new_gal_fix.fits')    \n",
    "    hdu_V = fits.open('/srv/data/chime/chime_IQUV_Mar2024_400_729/V_400_729_Mar2024_new_gal_fix.fits')\n",
    "    #Q = hdu_Q[0].data\n",
    "    #U = hdu_U[0].data\n",
    "    V = hdu_V[0].data \n",
    "    hdr = hdu_V[0].header\n",
    "\n",
    "    hdr2D = hdr.copy()\n",
    "    hdr2D['NAXIS'] = 2\n",
    "    for card in hdr.cards:\n",
    "        try:\n",
    "            if card[0][5] == '3':\n",
    "                del hdr2D[card[0]]\n",
    "        except:\n",
    "            pass\n",
    "        \n",
    "    print(repr(hdr2D))"
   ]
  },
  {
   "cell_type": "code",
   "execution_count": null,
   "id": "4e3b5056-68c8-4c1c-83cc-65055dad7442",
   "metadata": {},
   "outputs": [],
   "source": [
    "if cutout:\n",
    "    \n",
    "    center_spatial = (365,765)  # Replace with your desired coordinates\n",
    "    size_spatial = 250  # Replace with your desired size\n",
    "    \n",
    "    #Q_cut = np.empty([Q.shape[0],size_spatial,size_spatial])\n",
    "    #U_cut = np.empty([U.shape[0],size_spatial,size_spatial])\n",
    "    V_cut = np.empty([V.shape[0],size_spatial,size_spatial])\n",
    "    \n",
    "    for i in range(0,V.shape[0]):\n",
    "        print(i)\n",
    "        #Q_cut[i] = Cutout2D(Q[i], position=center_spatial, size=size_spatial, wcs=WCS(hdr2D)).data\n",
    "        #U_cut[i] = Cutout2D(U[i], position=center_spatial, size=size_spatial, wcs=WCS(hdr2D)).data\n",
    "        V_cut[i] = Cutout2D(V[i], position=center_spatial, size=size_spatial, wcs=WCS(hdr2D)).data\n"
   ]
  },
  {
   "cell_type": "code",
   "execution_count": null,
   "id": "f92b6b5f-4825-4985-92ce-9b72cd1b7051",
   "metadata": {},
   "outputs": [],
   "source": [
    "if cutout:\n",
    "\n",
    "    wcs_new = Cutout2D(V[0], position=center_spatial, size=size_spatial, wcs=WCS(hdr2D))\n",
    "    hdr_new = wcs_new.wcs.to_header()\n",
    "    hdr_new['NAXIS'] = hdr['NAXIS']\n",
    "    hdr_new['WCSAXES'] = 3\n",
    "    hdr_new['CDELT3'] = hdr['CDELT3']\n",
    "    hdr_new['CUNIT3'] = hdr['CUNIT3']\n",
    "    hdr_new['CRVAL3'] = hdr['CRVAL3']\n",
    "    hdr_new['CRPIX3'] = hdr['CRPIX3']\n",
    "    hdr_new['CTYPE3'] = hdr['CTYPE3']\n",
    "    hdr_new['HISTORY'] = 'cut-out for tadpole, 400-729 MHz'\n",
    "    hdr_new['HISTORY'] = 'made with corrected Stokes U, March 2024'\n",
    "    \n",
    "    print(repr(hdr_new))\n",
    "\n",
    "    #fits.writeto('/srv/data/chime/tadpole_cutout_Mar2024/IQUV_400_729/Q_400_729_Mar2024_tadpole_gal.fits',\n",
    "    #             Q_cut,hdr_new,overwrite=True)\n",
    "    #fits.writeto('/srv/data/chime/tadpole_cutout_Mar2024/IQUV_400_729/U_400_729_Mar2024_tadpole_gal.fits',\n",
    "    #             U_cut,hdr_new,overwrite=True)\n",
    "    fits.writeto('/srv/data/chime/tadpole_cutout_Mar2024/IQUV_400_729/V_400_729_Mar2024_tadpole_gal.fits',\n",
    "                 V_cut,hdr_new,overwrite=True)"
   ]
  },
  {
   "cell_type": "markdown",
   "id": "1971564f-1450-4e70-820f-873b2a7dc0ce",
   "metadata": {},
   "source": [
    "## 4) RM synthesis, CLEAN and peak fitting"
   ]
  },
  {
   "cell_type": "code",
   "execution_count": null,
   "id": "d1948c45-c533-4d96-bd36-159dd0af8a14",
   "metadata": {},
   "outputs": [],
   "source": [
    "RMsynth = False\n",
    "RMclean = False\n",
    "RMpeaks = False\n",
    "RMsynth_frac = False\n",
    "RMclean_frac = False\n",
    "RMpeaks_frac = False"
   ]
  },
  {
   "cell_type": "code",
   "execution_count": null,
   "id": "01262ef9-70ee-4aed-946d-831ef73a95a7",
   "metadata": {},
   "outputs": [],
   "source": [
    "if RMsynth:\n",
    "    !rmsynth3d \\\n",
    "     /srv/data/chime/tadpole_cutout_Mar2024/IQUV_400_729/Q_400_729_Mar2024_tadpole_gal.fits \\\n",
    "     /srv/data/chime/tadpole_cutout_Mar2024/IQUV_400_729/U_400_729_Mar2024_tadpole_gal.fits \\\n",
    "     /srv/data/chime/tadpole_cutout_Mar2024/IQUV_400_729/CHIME_400_729_freq.txt -v -d 0.5 -l 200 -t\n",
    "\n",
    "    !mv /srv/data/chime/tadpole_cutout_Mar2024/IQUV_400_729/FDF* /srv/data/chime/tadpole_cutout_Mar2024/RMsynth_400_729/\n",
    "    !mv /srv/data/chime/tadpole_cutout_Mar2024/IQUV_400_729/RMSF* /srv/data/chime/tadpole_cutout_Mar2024/RMsynth_400_729/\n",
    "\n",
    "if RMsynth_frac:\n",
    "    !rmsynth3d \\\n",
    "     /srv/data/chime/tadpole_cutout_Mar2024/IQUV_400_729/QI_400_729_Mar2024_tadpole_gal.fits \\\n",
    "     /srv/data/chime/tadpole_cutout_Mar2024/IQUV_400_729/UI_400_729_Mar2024_tadpole_gal.fits \\\n",
    "     /srv/data/chime/tadpole_cutout_Mar2024/IQUV_400_729/CHIME_400_729_freq.txt -v -d 0.5 -l 200 -t\n",
    "\n",
    "    !mv /srv/data/chime/tadpole_cutout_Mar2024/IQUV_400_729/FDF* /srv/data/chime/tadpole_cutout_Mar2024/RMsynth_400_729/QU_per_I/\n",
    "    !mv /srv/data/chime/tadpole_cutout_Mar2024/IQUV_400_729/RMSF* /srv/data/chime/tadpole_cutout_Mar2024/RMsynth_400_729/QU_per_I/"
   ]
  },
  {
   "cell_type": "code",
   "execution_count": null,
   "id": "cc6e61e0-4b8e-4aea-9d15-b37a596c7646",
   "metadata": {},
   "outputs": [],
   "source": [
    "if RMclean:\n",
    "    !rmclean3d /srv/data/chime/tadpole_cutout_Mar2024/RMsynth_400_729/FDF_tot_dirty.fits \\\n",
    "     /srv/data/chime/tadpole_cutout_Mar2024/RMsynth_400_729/RMSF_tot.fits -v -c 0.2\n",
    "\n",
    "if RMclean_frac:\n",
    "    !rmclean3d /srv/data/chime/tadpole_cutout_Mar2024/RMsynth_400_729/QU_per_I/FDF_tot_dirty.fits \\\n",
    "     /srv/data/chime/tadpole_cutout_Mar2024/RMsynth_400_729/QU_per_I/RMSF_tot.fits -v -c 0.1"
   ]
  },
  {
   "cell_type": "code",
   "execution_count": null,
   "id": "6f2e5cfb-02c3-483f-bd8f-8211ae134b75",
   "metadata": {},
   "outputs": [],
   "source": [
    "if RMpeaks:\n",
    "    !rmtools_peakfitcube \\\n",
    "     /srv/data/chime/tadpole_cutout_Mar2024/RMsynth_400_729/FDF_tot_dirty.fits \\\n",
    "     /srv/data/chime/tadpole_cutout_Mar2024/RMsynth_400_729/CHIME_400_729_freq.txt \\\n",
    "     /srv/data/chime/tadpole_cutout_Mar2024/RMsynth_400_729/dirty_ -v\n",
    "if RMpeaks_frac:\n",
    "    !rmtools_peakfitcube \\\n",
    "     /srv/data/chime/tadpole_cutout_Mar2024/RMsynth_400_729/QU_per_I/FDF_tot_dirty.fits \\\n",
    "     /srv/data/chime/tadpole_cutout_Mar2024/RMsynth_400_729/CHIME_400_729_freq.txt \\\n",
    "     /srv/data/chime/tadpole_cutout_Mar2024/RMsynth_400_729/QU_per_I/dirty_ -v"
   ]
  },
  {
   "cell_type": "markdown",
   "id": "04a11e08-f2dc-40b0-a989-0587590e3662",
   "metadata": {},
   "source": [
    "## 5) Checking maps and spectra"
   ]
  },
  {
   "cell_type": "code",
   "execution_count": null,
   "id": "50c457d0-ce66-4466-bee9-b0bbb48f58a7",
   "metadata": {},
   "outputs": [],
   "source": [
    "check_FD = False"
   ]
  },
  {
   "cell_type": "code",
   "execution_count": null,
   "id": "8e7f209f-ee10-46d3-84f2-ecfd2e6a80b8",
   "metadata": {},
   "outputs": [],
   "source": [
    "def find_pixels(lon,lat,wcs):\n",
    "\n",
    "    skycoord = SkyCoord(lon, lat, frame=Galactic, unit=(u.deg, u.deg))\n",
    "                        \n",
    "    x, y = wcs.world_to_pixel(skycoord)\n",
    "    \n",
    "    return x, y\n",
    "\n",
    "def make_maps(FD_idx,vmaxPI=5,vmaxFD=15):\n",
    "    \n",
    "    fig = plt.figure(figsize=(16,14))\n",
    "    ax1 = fig.add_subplot(331, projection=wcs.celestial)\n",
    "    ax2 = fig.add_subplot(332, projection=wcs.celestial)\n",
    "    ax3 = fig.add_subplot(333, projection=wcs.celestial)\n",
    "    ax4 = fig.add_subplot(334, projection=wcs.celestial)\n",
    "    ax5 = fig.add_subplot(335, projection=wcs.celestial)\n",
    "    ax6 = fig.add_subplot(336, projection=wcs.celestial)\n",
    "    ax7 = fig.add_subplot(337, projection=wcs.celestial)\n",
    "    ax8 = fig.add_subplot(338, projection=wcs.celestial)\n",
    "    ax9 = fig.add_subplot(339, projection=wcs.celestial)\n",
    "    \n",
    "    im1 = ax1.imshow(hdu_dirty_old[0].data[FD_idx],vmin=0,vmax=vmaxPI,cmap='viridis')\n",
    "    im2 = ax2.imshow(hdu_dirty_new[0].data[FD_idx],vmin=0,vmax=vmaxPI,cmap='viridis')\n",
    "    im3 = ax3.imshow(hdu_dirty_new[0].data[FD_idx]-hdu_dirty_old[0].data[FD_idx],vmin=-vmaxPI,vmax=vmaxPI,cmap='RdBu_r')\n",
    "\n",
    "    im4 = ax4.imshow(hdu_clean_old[0].data[FD_idx],vmin=0,vmax=vmaxPI,cmap='viridis')\n",
    "    im5 = ax5.imshow(hdu_clean_new[0].data[FD_idx],vmin=0,vmax=vmaxPI,cmap='viridis')\n",
    "    im6 = ax6.imshow(hdu_clean_new[0].data[FD_idx]-hdu_clean_old[0].data[FD_idx],vmin=-vmaxPI,vmax=vmaxPI,cmap='RdBu_r')\n",
    "\n",
    "    im7 = ax7.imshow(hdu_peaks_old[0].data,vmin=-vmaxFD,vmax=vmaxFD,cmap='RdBu_r')\n",
    "    im8 = ax8.imshow(hdu_peaks_new[0].data,vmin=-vmaxFD,vmax=vmaxFD,cmap='RdBu_r')\n",
    "    im9 = ax9.imshow(hdu_peaks_new[0].data-hdu_peaks_old[0].data,vmin=-vmaxFD,vmax=vmaxFD,cmap='RdBu_r')\n",
    "\n",
    "    axs = [ax1,ax2,ax3,ax4,ax5,ax6,ax7,ax8,ax9]\n",
    "    ims = [im1,im2,im3,im4,im5,im6,im7,im8,im9]\n",
    "    FD_str = str(FD[FD_idx])\n",
    "    titles = ['old dirty at FD='+FD_str,'new dirty at FD='+FD_str,'new - old dirty at FD='+FD_str,\n",
    "              'old clean at FD='+FD_str,'new clean at FD='+FD_str,'new - old clean at FD='+FD_str,\n",
    "              'old fitted peak FD','new fitted peak FD','new - old fitted peak FD']\n",
    "    \n",
    "    for i in range(0,9):\n",
    "        axs[i].set_xlabel('Galactic longitude')\n",
    "        axs[i].set_ylabel('Galactic latitude')\n",
    "        cbar = fig.colorbar(ims[i], ax=axs[i], shrink=0.9, pad=0.01)\n",
    "        axs[i].set_title(titles[i])\n",
    "\n",
    "    return\n",
    "\n",
    "def make_spectra(lon_pt,lat_pt,vmaxFD=15,FD_max=200):\n",
    "    \n",
    "    fig = plt.figure(figsize=(16,8))\n",
    "    ax1 = fig.add_subplot(121, projection=wcs.celestial)\n",
    "    ax2 = fig.add_subplot(122)\n",
    "    \n",
    "    im1 = ax1.imshow(hdu_peaks_new[0].data,vmin=-vmaxFD,vmax=vmaxFD,cmap='RdBu_r')\n",
    "    ax1.set_xlabel('Galactic longitude')\n",
    "    ax1.set_ylabel('Galactic latitude')\n",
    "    cbar = fig.colorbar(im1, ax=ax1, shrink=0.8, pad=0.01)\n",
    "    x,y = find_pixels(lon_pt,lat_pt,wcs)\n",
    "    ax1.scatter(x,y,s=30,color='k')\n",
    "\n",
    "    ax2.plot(FD,hdu_dirty_old[0].data[:,int(np.round(y,0)),int(np.round(x,0))],label='old dirty',color='blue',linestyle='dashed')\n",
    "    ax2.plot(FD,hdu_dirty_new[0].data[:,int(np.round(y,0)),int(np.round(x,0))],label='new dirty',color='red',linestyle='dashed')\n",
    "    ax2.plot(FD,hdu_clean_old[0].data[:,int(np.round(y,0)),int(np.round(x,0))],label='old clean')\n",
    "    ax2.plot(FD,hdu_clean_new[0].data[:,int(np.round(y,0)),int(np.round(x,0))],label='new clean')\n",
    "    ax2.set_xlim(-FD_max,FD_max)\n",
    "    ax2.set_ylim(0,2)\n",
    "    ax2.legend(loc='upper right')\n",
    "    ax2.set_xlabel('Faraday depth (rad/m^2)')\n",
    "    ax2.grid()\n",
    "    ax2.axvline(x=hdu_peaks_old[0].data[int(np.round(y,0)),int(np.round(x,0))],color='C0',linestyle='dotted')\n",
    "    ax2.axvline(x=hdu_peaks_new[0].data[int(np.round(y,0)),int(np.round(x,0))],color='C1',linestyle='dotted')\n",
    "\n",
    "    return"
   ]
  },
  {
   "cell_type": "code",
   "execution_count": null,
   "id": "ad185738-683f-4faf-a478-b92eefee0dec",
   "metadata": {},
   "outputs": [],
   "source": [
    "if check_FD:\n",
    "\n",
    "    hdu_dirty_new = fits.open('/srv/data/chime/tadpole_cutout_Mar2024/RMsynth_400_729/FDF_tot_dirty.fits')\n",
    "    hdu_clean_new = fits.open('/srv/data/chime/tadpole_cutout_Mar2024/RMsynth_400_729/FDF_clean_tot.fits')\n",
    "    hdu_peaks_new = fits.open('/srv/data/chime/tadpole_cutout_Mar2024/RMsynth_400_729/dirty_phiPeakPIfit_rm2.fits')\n",
    "    \n",
    "    hdu_dirty_old = fits.open('/srv/data/chime/tadpole_cutout/RMsynth_400_729/QU/FDF_tot_dirty.fits')\n",
    "    hdu_clean_old = fits.open('/srv/data/chime/tadpole_cutout/RMsynth_400_729/QU/clean_200mJy/FDF_clean_tot.fits')\n",
    "    hdu_peaks_old = fits.open('/srv/data/chime/tadpole_cutout/RMsynth_400_729/QU/dirty_phiPeakPIfit_rm2.fits')\n",
    "    \n",
    "    hdr_new = hdu_dirty_new[0].header\n",
    "    hdr_old = hdu_dirty_old[0].header\n",
    "    wcs = WCS(hdr_new).celestial\n",
    "    print(wcs)\n",
    "    \n",
    "    FD = WCS(hdr_new).all_pix2world(0,0,range(hdu_dirty_new[0].data.shape[0]),0)[2]\n"
   ]
  },
  {
   "cell_type": "code",
   "execution_count": null,
   "id": "b2ef07be-2413-4143-b60e-b216d0998d51",
   "metadata": {},
   "outputs": [],
   "source": [
    "if check_FD:\n",
    "    FD_pick = -7\n",
    "    FD_idx = np.where(abs(FD-FD_pick) == np.nanmin(abs(FD-FD_pick)))[0][0]\n",
    "    print(FD_idx,FD[FD_idx])\n",
    "    \n",
    "    make_maps(FD_idx,vmaxPI=1.3,vmaxFD=12)\n",
    "\n",
    "    plt.savefig('../PLOTS/fixed_U_compare_FD.png')"
   ]
  },
  {
   "cell_type": "code",
   "execution_count": null,
   "id": "eda1d048-fbe0-4520-aa71-12b27b999875",
   "metadata": {},
   "outputs": [],
   "source": [
    "if check_FD:\n",
    "    make_spectra(137.1,7.1,vmaxFD=12,FD_max=35)\n",
    "\n",
    "    plt.savefig('../PLOTS/fixed_U_example_spectrum.png')"
   ]
  },
  {
   "cell_type": "markdown",
   "id": "e626a297-547f-4c46-a4d2-f4caed7f5075",
   "metadata": {},
   "source": [
    "## 6) Make Q/I and U/I"
   ]
  },
  {
   "cell_type": "code",
   "execution_count": null,
   "id": "76ca9d0e-0377-4ceb-bd37-2f1369eaa569",
   "metadata": {},
   "outputs": [],
   "source": [
    "make_divI = False"
   ]
  },
  {
   "cell_type": "code",
   "execution_count": null,
   "id": "0114c9d7-633a-4e49-aeac-929dfa6dbfcd",
   "metadata": {},
   "outputs": [],
   "source": [
    "if make_divI:\n",
    "\n",
    "    hduQ = fits.open('/srv/data/chime/tadpole_cutout_Mar2024/IQUV_400_729/Q_400_729_Mar2024_tadpole_gal.fits')\n",
    "    hduU = fits.open('/srv/data/chime/tadpole_cutout_Mar2024/IQUV_400_729/U_400_729_Mar2024_tadpole_gal.fits')\n",
    "    hduI = fits.open('/srv/data/chime/tadpole_cutout_Mar2024/IQUV_400_729/I_400_729_Oct2023_tadpole_gal.fits')\n",
    "\n",
    "    fits.writeto('/srv/data/chime/tadpole_cutout_Mar2024/IQUV_400_729/QI_400_729_Mar2024_tadpole_gal.fits',\n",
    "                 hduQ[0].data/hduI[0].data,hduQ[0].header,overwrite=True)\n",
    "    fits.writeto('/srv/data/chime/tadpole_cutout_Mar2024/IQUV_400_729/UI_400_729_Mar2024_tadpole_gal.fits',\n",
    "                 hduU[0].data/hduI[0].data,hduU[0].header,overwrite=True)"
   ]
  },
  {
   "cell_type": "code",
   "execution_count": null,
   "id": "827dfc00-520b-4ec9-82eb-668d28c53f92",
   "metadata": {},
   "outputs": [],
   "source": []
  }
 ],
 "metadata": {
  "kernelspec": {
   "display_name": "Python 3 (ipykernel)",
   "language": "python",
   "name": "python3"
  },
  "language_info": {
   "codemirror_mode": {
    "name": "ipython",
    "version": 3
   },
   "file_extension": ".py",
   "mimetype": "text/x-python",
   "name": "python",
   "nbconvert_exporter": "python",
   "pygments_lexer": "ipython3",
   "version": "3.11.7"
  }
 },
 "nbformat": 4,
 "nbformat_minor": 5
}
