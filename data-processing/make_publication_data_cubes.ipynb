{
 "cells": [
  {
   "cell_type": "code",
   "execution_count": null,
   "id": "1994a5ea",
   "metadata": {},
   "outputs": [],
   "source": [
    "import sys\n",
    "import numpy as np\n",
    "import matplotlib.pyplot as plt\n",
    "from astropy.io import fits\n",
    "from astropy.wcs import WCS\n",
    "from astropy.coordinates import ICRS    \n",
    "from astropy.coordinates import Galactic \n",
    "from astropy.coordinates import SkyCoord "
   ]
  },
  {
   "cell_type": "markdown",
   "id": "67892d55",
   "metadata": {},
   "source": [
    "## Read in I, Q, U, V cubes"
   ]
  },
  {
   "cell_type": "code",
   "execution_count": null,
   "id": "1e1e4d66",
   "metadata": {},
   "outputs": [],
   "source": [
    "hduI = fits.open('/srv/data/chime/tadpole_cutout_Mar2024/IQUV_400_729/I_400_729_Oct2023_tadpole_gal.fits')\n",
    "I    = hduI[0].data\n",
    "\n",
    "hduQ = fits.open('/srv/data/chime/tadpole_cutout_Mar2024/IQUV_400_729/Q_400_729_Mar2024_tadpole_gal.fits')\n",
    "Q    = hduQ[0].data\n",
    "\n",
    "hduU = fits.open('/srv/data/chime/tadpole_cutout_Mar2024/IQUV_400_729/U_400_729_Mar2024_tadpole_gal.fits')\n",
    "U    = hduU[0].data\n",
    "\n",
    "hduV = fits.open('/srv/data/chime/tadpole_cutout_Mar2024/IQUV_400_729/V_400_729_Mar2024_tadpole_gal.fits')\n",
    "V    = hduV[0].data\n"
   ]
  },
  {
   "cell_type": "markdown",
   "id": "e4a282b4-e01a-4fa6-bbfc-48c1d7daccc1",
   "metadata": {},
   "source": [
    "## Make I, Q, U, V header"
   ]
  },
  {
   "cell_type": "code",
   "execution_count": null,
   "id": "f0ccdae4",
   "metadata": {},
   "outputs": [],
   "source": [
    "hdr  = hduI[0].header\n",
    "del hdr['MJDREF']\n",
    "del hdr['LONPOLE']\n",
    "del hdr['LATPOLE']\n",
    "del hdr['HISTORY']\n",
    "\n",
    "hdr['NAXIS'] = 4\n",
    "hdr['WCSAXES'] = 4\n",
    "hdr.insert('WCSAXES', ('NAXIS4', 4))\n",
    "\n",
    "hdr['BUNIT'] = 'Jy/beam'\n",
    "hdr['OBJECT'] = 'G137+7 tadpole'\n",
    "\n",
    "#hdr.insert('OBJECT', ('INSTRUME', 'CHIME'))\n",
    "\n",
    "hdr.insert('BUNIT', ('CDELT4', 1))\n",
    "hdr.insert('BUNIT', ('CRVAL4', 1))\n",
    "hdr.insert('BUNIT', ('CRPIX4', 1))\n",
    "hdr.insert('BUNIT', ('CTYPE4', 'STOKES'))\n",
    "\n",
    "hdr['INSTRUME'] = 'CHIME'\n",
    "\n",
    "hdr['AUTHOR'] = 'Mohammed, Ordog, CHIME & GMIMS collaborations, submitted to ApJ'\n",
    "hdr['REFERENC'] =  'CANFAR DOI: 24.0001'\n",
    "\n",
    "print(repr(hdr))"
   ]
  },
  {
   "cell_type": "markdown",
   "id": "bffc70c2-e2d2-4fcc-95a6-c7fae47a4710",
   "metadata": {},
   "source": [
    "## Write out I, Q, U, V files"
   ]
  },
  {
   "cell_type": "code",
   "execution_count": null,
   "id": "bc3c92af",
   "metadata": {},
   "outputs": [],
   "source": [
    "freq_cube = np.asarray([I,Q,U,V])\n",
    "print(freq_cube.shape)\n",
    "fits.writeto('/srv/data/chime/tadpole_cutout_Mar2024/canfar/tadpole_freq_cube_gal.fits',freq_cube,header=hdr,overwrite=True)"
   ]
  },
  {
   "cell_type": "markdown",
   "id": "d06c69d1-92b2-4e79-a62f-c104d7e2d006",
   "metadata": {},
   "source": [
    "## Read in FDF cubes"
   ]
  },
  {
   "cell_type": "code",
   "execution_count": null,
   "id": "cd70f555",
   "metadata": {},
   "outputs": [],
   "source": [
    "hduQ_FDF = fits.open('/srv/data/chime/tadpole_cutout_Mar2024/RMsynth_400_729/FDF_clean_real.fits')\n",
    "Q_FDF    = hduQ_FDF[0].data\n",
    "\n",
    "hduU_FDF = fits.open('/srv/data/chime/tadpole_cutout_Mar2024/RMsynth_400_729/FDF_clean_im.fits')\n",
    "U_FDF    = hduU_FDF[0].data\n",
    "\n",
    "hduPI_FDF = fits.open('/srv/data/chime/tadpole_cutout_Mar2024/RMsynth_400_729/FDF_clean_tot.fits')\n",
    "PI_FDF    = hduPI_FDF[0].data\n",
    "\n",
    "#print(repr(hduQ_FDF[0].header))"
   ]
  },
  {
   "cell_type": "markdown",
   "id": "7140faae-d5aa-4926-829d-adaef18b1cce",
   "metadata": {},
   "source": [
    "## Make the FDF header for single files"
   ]
  },
  {
   "cell_type": "code",
   "execution_count": null,
   "id": "b778349c",
   "metadata": {},
   "outputs": [],
   "source": [
    "hdr  = hduPI_FDF[0].header\n",
    "del hdr['MJDREF']\n",
    "del hdr['LONPOLE']\n",
    "del hdr['LATPOLE']\n",
    "del hdr['HISTORY']\n",
    "\n",
    "# Old:\n",
    "#hdr['NAXIS'] = 4\n",
    "#hdr['WCSAXES'] = 4\n",
    "#hdr.insert('WCSAXES', ('NAXIS4', 2))\n",
    "\n",
    "#hdr['INSTRUME'] = 'CHIME'\n",
    "#hdr['BUNIT'] = 'Jy/beam/RMSF'\n",
    "#hdr['OBJECT'] = 'G137+7 tadpole'\n",
    "\n",
    "#hdr.insert('INSTRUME', ('CDELT4', 1))\n",
    "#hdr.insert('INSTRUME', ('CRVAL4', 1))\n",
    "#hdr.insert('INSTRUME', ('CRPIX4', 1))\n",
    "#hdr.insert('INSTRUME', ('CTYPE4', 'COMPLEX'))\n",
    "\n",
    "# New (Q and U in separate files)\n",
    "hdr['NAXIS'] = 2\n",
    "hdr['WCSAXES'] = 3\n",
    "hdr['BUNIT'] = 'Jy/beam/RMSF'\n",
    "hdr['OBJECT'] = 'G137+7 tadpole'\n",
    "hdr['INSTRUME'] = 'CHIME'\n",
    "\n",
    "hdr['AUTHOR'] = 'Mohammed, Ordog, CHIME & GMIMS collaborations, submitted to ApJ'\n",
    "hdr['REFERENC'] =  'CANFAR DOI: 24.0001'\n",
    "\n",
    "print(repr(hdr))"
   ]
  },
  {
   "cell_type": "code",
   "execution_count": null,
   "id": "6b9f1aea",
   "metadata": {},
   "outputs": [],
   "source": [
    "# Old:\n",
    "\n",
    "#fdf_cube = np.asarray([Q,U])\n",
    "#print(fdf_cube.shape)\n",
    "#fits.writeto('/srv/data/chime/tadpole_cutout/apj/tadpole_FDF_cube_gal.fits',fdf_cube,header=hdr,overwrite=True)\n",
    "\n",
    "fits.writeto('/srv/data/chime/tadpole_cutout_Mar2024/canfar/tadpole_FDF_cube_q_gal.fits',Q_FDF,header=hdr,overwrite=True)\n",
    "fits.writeto('/srv/data/chime/tadpole_cutout_Mar2024/canfar/tadpole_FDF_cube_u_gal.fits',U_FDF,header=hdr,overwrite=True)\n",
    "fits.writeto('/srv/data/chime/tadpole_cutout_Mar2024/canfar/tadpole_FDF_cube_pi_gal.fits',PI_FDF,header=hdr,overwrite=True)"
   ]
  },
  {
   "cell_type": "markdown",
   "id": "0ebe99b4-e74a-478e-8d91-b31d60fcf26b",
   "metadata": {},
   "source": [
    "## Combined FD cube files:"
   ]
  },
  {
   "cell_type": "code",
   "execution_count": null,
   "id": "fecd4d22-907f-4e37-9260-7dee055e8a6b",
   "metadata": {},
   "outputs": [],
   "source": [
    "hduQ_FDF = fits.open('/srv/data/chime/tadpole_cutout_Mar2024/RMsynth_400_729/FDF_clean_real.fits')\n",
    "Q_FDF    = hduQ_FDF[0].data\n",
    "\n",
    "hduU_FDF = fits.open('/srv/data/chime/tadpole_cutout_Mar2024/RMsynth_400_729/FDF_clean_im.fits')\n",
    "U_FDF    = hduU_FDF[0].data\n",
    "\n",
    "hduPI_FDF = fits.open('/srv/data/chime/tadpole_cutout_Mar2024/RMsynth_400_729/FDF_clean_tot.fits')\n",
    "PI_FDF    = hduPI_FDF[0].data\n",
    "\n",
    "#print(repr(hduQ_FDF[0].header))"
   ]
  },
  {
   "cell_type": "code",
   "execution_count": null,
   "id": "7abd2f64-a200-40ba-a975-5d343df724d4",
   "metadata": {},
   "outputs": [],
   "source": [
    "hdr  = hduPI_FDF[0].header\n",
    "del hdr['MJDREF']\n",
    "del hdr['LONPOLE']\n",
    "del hdr['LATPOLE']\n",
    "del hdr['HISTORY']\n",
    "\n",
    "hdr['NAXIS'] = 4\n",
    "hdr['WCSAXES'] = 4\n",
    "hdr.insert('WCSAXES', ('NAXIS4', 4))\n",
    "\n",
    "hdr['BUNIT'] = 'Jy/beam/RMSF'\n",
    "hdr['OBJECT'] = 'G137+7 tadpole'\n",
    "\n",
    "#hdr.insert('OBJECT', ('INSTRUME', 'CHIME'))\n",
    "\n",
    "hdr.insert('LAMSQ0', ('CDELT4', 1))\n",
    "hdr.insert('LAMSQ0', ('CRVAL4', 2))\n",
    "hdr.insert('LAMSQ0', ('CRPIX4', 1))\n",
    "hdr.insert('LAMSQ0', ('CTYPE4', 'STOKES'))\n",
    "\n",
    "hdr['INSTRUME'] = 'CHIME'\n",
    "\n",
    "hdr['AUTHOR'] = 'Mohammed, Ordog, CHIME & GMIMS collaborations, submitted to ApJ'\n",
    "hdr['REFERENC'] =  'CANFAR DOI: 24.0001'\n",
    "\n",
    "print(repr(hdr))"
   ]
  },
  {
   "cell_type": "code",
   "execution_count": null,
   "id": "715583d1-f15c-4fe3-ae64-21b6013cf28f",
   "metadata": {},
   "outputs": [],
   "source": [
    "fdf_cube = np.asarray([Q_FDF,U_FDF])\n",
    "print(fdf_cube.shape)\n",
    "fits.writeto('/srv/data/chime/tadpole_cutout_Mar2024/canfar/tadpole_FDF_cube_qu_gal.fits',fdf_cube,header=hdr,overwrite=True)"
   ]
  },
  {
   "cell_type": "code",
   "execution_count": null,
   "id": "943c1297-c3ed-4974-aaf9-8dac63aafafc",
   "metadata": {},
   "outputs": [],
   "source": []
  },
  {
   "cell_type": "code",
   "execution_count": null,
   "id": "3d433d77-dc98-4c51-977c-32e3e7aa42c1",
   "metadata": {},
   "outputs": [],
   "source": []
  },
  {
   "cell_type": "markdown",
   "id": "ae7748a2",
   "metadata": {},
   "source": [
    "## Test outputs"
   ]
  },
  {
   "cell_type": "code",
   "execution_count": null,
   "id": "61d47190",
   "metadata": {},
   "outputs": [],
   "source": [
    "file = fits.open('/srv/data/chime/tadpole_cutout_Mar2024/canfar/tadpole_freq_cube_gal.fits')\n",
    "data = file[0].data\n",
    "print(data.shape)\n",
    "hdr = file[0].header\n",
    "\n",
    "freq = WCS(hdr).all_pix2world(0,0,range(data.shape[1]),0,0)[2]\n",
    "print(freq[0],freq[-1])\n",
    "print('')\n",
    "print(repr(hdr))"
   ]
  },
  {
   "cell_type": "code",
   "execution_count": null,
   "id": "8e22623b",
   "metadata": {},
   "outputs": [],
   "source": [
    "freq_plot = 614e6\n",
    "\n",
    "idx = WCS(hdr).wcs_world2pix(0,0,freq_plot,0,0)[2]\n",
    "idx = int(np.round(idx,0))\n",
    "print(idx, freq[idx])\n",
    "\n",
    "fig = plt.figure(figsize=(20,6))\n",
    "ax1 = fig.add_subplot(141, projection=WCS(hdr).celestial)\n",
    "ax2 = fig.add_subplot(142, projection=WCS(hdr).celestial)\n",
    "ax3 = fig.add_subplot(143, projection=WCS(hdr).celestial)\n",
    "ax4 = fig.add_subplot(144, projection=WCS(hdr).celestial)\n",
    "\n",
    "ax1.imshow(data[0,idx],vmin=0,vmax=20)\n",
    "ax2.imshow(data[1,idx],vmin=-2,vmax=2,cmap='RdBu_r')\n",
    "ax3.imshow(data[2,idx],vmin=-2,vmax=2,cmap='RdBu_r')\n",
    "ax4.imshow(data[3,idx],vmin=-2,vmax=2,cmap='RdBu_r')"
   ]
  },
  {
   "cell_type": "code",
   "execution_count": null,
   "id": "6bb25001",
   "metadata": {},
   "outputs": [],
   "source": [
    "file = fits.open('/srv/data/chime/tadpole_cutout/apj/tadpole_FDF_cube_gal.fits')\n",
    "data = file[0].data\n",
    "print(data.shape)\n",
    "hdr = file[0].header\n",
    "\n",
    "fdf = WCS(hdr).all_pix2world(0,0,range(data.shape[1]),0,0)[2]\n",
    "print(fdf[0],fdf[-1])\n",
    "print('')\n",
    "print(repr(hdr))"
   ]
  },
  {
   "cell_type": "code",
   "execution_count": null,
   "id": "8e2556e5",
   "metadata": {},
   "outputs": [],
   "source": [
    "fdf_plot = -7\n",
    "\n",
    "idx = WCS(hdr).wcs_world2pix(0,0,fdf_plot,0,0)[2]\n",
    "idx = int(np.round(idx,0))\n",
    "print(idx)\n",
    "print(idx, fdf[idx])\n",
    "\n",
    "fig = plt.figure(figsize=(20,6))\n",
    "ax1 = fig.add_subplot(131, projection=WCS(hdr).celestial)\n",
    "ax2 = fig.add_subplot(132, projection=WCS(hdr).celestial)\n",
    "ax3 = fig.add_subplot(133, projection=WCS(hdr).celestial)\n",
    "\n",
    "ax1.imshow(data[0,idx],vmin=-0.6,vmax=0.6)\n",
    "ax2.imshow(data[1,idx],vmin=-0.6,vmax=0.6)\n",
    "ax3.imshow(np.sqrt(data[0,idx]**2+data[1,idx]**2),vmin=0,vmax=1.5)"
   ]
  },
  {
   "cell_type": "code",
   "execution_count": null,
   "id": "aded2c0d",
   "metadata": {},
   "outputs": [],
   "source": []
  }
 ],
 "metadata": {
  "kernelspec": {
   "display_name": "Python 3 (ipykernel)",
   "language": "python",
   "name": "python3"
  },
  "language_info": {
   "codemirror_mode": {
    "name": "ipython",
    "version": 3
   },
   "file_extension": ".py",
   "mimetype": "text/x-python",
   "name": "python",
   "nbconvert_exporter": "python",
   "pygments_lexer": "ipython3",
   "version": "3.11.7"
  }
 },
 "nbformat": 4,
 "nbformat_minor": 5
}
