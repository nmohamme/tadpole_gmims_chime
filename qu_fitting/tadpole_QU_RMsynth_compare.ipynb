{
 "cells": [
  {
   "cell_type": "markdown",
   "id": "31ad11a1",
   "metadata": {},
   "source": [
    "# Make Figure 9 in submitted tadpole paper\n",
    "## A. Ordog, Dec. 2023\n",
    "### Updated Mar. 2024 to use new maps after correction to Stokes U calibration"
   ]
  },
  {
   "cell_type": "code",
   "execution_count": null,
   "id": "671e99f7",
   "metadata": {},
   "outputs": [],
   "source": [
    "from astropy.io import fits\n",
    "from astropy.coordinates import SkyCoord\n",
    "from astropy.coordinates import ICRS, Galactic, FK4, FK5\n",
    "import numpy as np\n",
    "import matplotlib.pyplot as plt\n",
    "from astropy.wcs import WCS\n",
    "from reproject import reproject_to_healpix, reproject_from_healpix\n",
    "import json\n",
    "from RMtools_1D.do_RMsynth_1D import run_rmsynth\n",
    "from RMtools_1D.do_RMclean_1D import run_rmclean"
   ]
  },
  {
   "cell_type": "markdown",
   "id": "3787b416",
   "metadata": {},
   "source": [
    "## Set save_plots to True to save figures (will overwrite old ones)"
   ]
  },
  {
   "cell_type": "code",
   "execution_count": null,
   "id": "12c1817e",
   "metadata": {},
   "outputs": [],
   "source": [
    "save_plot = False"
   ]
  },
  {
   "cell_type": "markdown",
   "id": "35d1ce15",
   "metadata": {},
   "source": [
    "## Read in CHIME data files"
   ]
  },
  {
   "cell_type": "code",
   "execution_count": null,
   "id": "b7071fbb",
   "metadata": {},
   "outputs": [],
   "source": [
    "# The old files:\n",
    "#hduQ   = fits.open('/srv/data/chime/tadpole_cutout/IQU_400_729/Q_400_729_Oct2023_tadpole_gal.fits')\n",
    "#hduU   = fits.open('/srv/data/chime/tadpole_cutout/IQU_400_729/U_400_729_Oct2023_tadpole_gal.fits')\n",
    "# The new files:\n",
    "hduQ   = fits.open('/srv/data/chime/tadpole_cutout_Mar2024/IQUV_400_729/Q_400_729_Mar2024_tadpole_gal.fits')\n",
    "hduU   = fits.open('/srv/data/chime/tadpole_cutout_Mar2024/IQUV_400_729/U_400_729_Mar2024_tadpole_gal.fits')\n",
    "\n",
    "# The old files:\n",
    "#hdupeak = fits.open('/srv/data/chime/tadpole_cutout/RMsynth_400_729/QU/FDF_peakRM.fits')\n",
    "#hduCLEAN = fits.open('/srv/data/chime/tadpole_cutout/RMsynth_400_729/QU/clean_200mJy/FDF_clean_tot.fits')\n",
    "#hduFWHM = fits.open('/srv/data/chime/tadpole_cutout/RMsynth_400_729/QU/RMSF_FWHM.fits')\n",
    "#hdupeakfit = fits.open('/srv/data/chime/tadpole_cutout/RMsynth_400_729/QU/dirty_phiPeakPIfit_rm2.fits')\n",
    "# The new files:\n",
    "hdupeak = fits.open('/srv/data/chime/tadpole_cutout_Mar2024/RMsynth_400_729/FDF_peakRM.fits')\n",
    "hduCLEAN = fits.open('/srv/data/chime/tadpole_cutout_Mar2024/RMsynth_400_729/FDF_clean_tot.fits')\n",
    "hduFWHM = fits.open('/srv/data/chime/tadpole_cutout_Mar2024/RMsynth_400_729/RMSF_FWHM.fits')\n",
    "hdupeakfit = fits.open('/srv/data/chime/tadpole_cutout_Mar2024/RMsynth_400_729/dirty_dPhiPeakPIfit_rm2.fits')\n",
    "\n",
    "Q = hduQ[0].data\n",
    "U = hduU[0].data\n",
    "\n",
    "hdrPA   = hduQ[0].header\n",
    "hdr2D   = hdupeak[0].header\n",
    "hdrFDF  = hduCLEAN[0].header\n",
    "hdr2D   = hdupeakfit[0].header\n",
    "#hdrRMSF = hduRMSF[0].header\n",
    "\n",
    "peak     = hdupeak[0].data[0]\n",
    "FDFclean = hduCLEAN[0].data\n",
    "FWHM     = hduFWHM[0].data[0]\n",
    "#RMSF     = hduRMSF[0].data\n",
    "\n",
    "hdr2D['WCSAXES'] = 2\n",
    "print(repr(hdr2D))"
   ]
  },
  {
   "cell_type": "code",
   "execution_count": null,
   "id": "d964f1b1",
   "metadata": {},
   "outputs": [],
   "source": [
    "freq = WCS(hdrPA).all_pix2world(0,0,range(Q.shape[0]),0)[2]\n",
    "print(freq[0],freq[-1])\n",
    "\n",
    "FD = WCS(hdrFDF).all_pix2world(0,0,range(FDFclean.shape[0]),0)[2]\n",
    "print(FD[0],FD[-1])"
   ]
  },
  {
   "cell_type": "markdown",
   "id": "079ca551",
   "metadata": {},
   "source": [
    "## Find second peaks in Faraday depth spectra"
   ]
  },
  {
   "cell_type": "code",
   "execution_count": null,
   "id": "75ccd944",
   "metadata": {
    "scrolled": true
   },
   "outputs": [],
   "source": [
    "def gaussian(x, mu, sig):\n",
    "    return np.exp(-np.power(x - mu, 2.) / (2 * np.power(sig, 2.)))\n",
    "\n",
    "FDFclean_second = FDFclean.copy()\n",
    "\n",
    "for i in range(0,FDFclean.shape[1]):\n",
    "    #print(i)\n",
    "    for j in range(0,FDFclean.shape[2]):\n",
    "        w_peak = np.where(FD == peak[i,j])[0][0]\n",
    "        RMSF_sub = gaussian(FD,peak[i,j],FWHM[i,j]/2.355)*FDFclean[w_peak,i,j]\n",
    "        FDFclean_second[:,i,j] = FDFclean[:,i,j] - RMSF_sub"
   ]
  },
  {
   "cell_type": "code",
   "execution_count": null,
   "id": "789bae69",
   "metadata": {},
   "outputs": [],
   "source": [
    "peak2 = np.empty_like(peak)\n",
    "PIpeak2 = np.empty_like(peak)\n",
    "for i in range(0,peak.shape[0]):\n",
    "    #print(i)\n",
    "    for j in range(0,peak.shape[1]):\n",
    "        w = np.where(FDFclean_second[:,i,j] == np.nanmax(FDFclean_second[:,i,j]))[0][0]\n",
    "        peak2[i,j] = FD[w]\n",
    "        PIpeak2[i,j] = FDFclean_second[w,i,j]\n"
   ]
  },
  {
   "cell_type": "markdown",
   "id": "f09788ab",
   "metadata": {},
   "source": [
    "## Mask for low polarized intensity in second peak map:"
   ]
  },
  {
   "cell_type": "code",
   "execution_count": null,
   "id": "cce03cd2",
   "metadata": {},
   "outputs": [],
   "source": [
    "wbad1 = np.where(PIpeak2<0.2)\n",
    "wbad2 = np.where(abs(peak2)>30)\n",
    "\n",
    "peak2_good = peak2.copy()\n",
    "peak2_good[wbad1] = np.nan\n",
    "peak2_good[wbad2] = np.nan"
   ]
  },
  {
   "cell_type": "markdown",
   "id": "c5ce8671",
   "metadata": {},
   "source": [
    "## Read in QU fitting results:"
   ]
  },
  {
   "cell_type": "code",
   "execution_count": null,
   "id": "23bcff65",
   "metadata": {},
   "outputs": [],
   "source": [
    "# Old files:\n",
    "#directory = '/srv/data/chime/tadpole_cutout/QU_fitting_results/'\n",
    "# New files:\n",
    "directory = '/srv/data/chime/tadpole_cutout_Mar2024/QU_fitting_results/'\n",
    "\n",
    "# Old files:\n",
    "#coords = np.genfromtxt(directory+'tadpole_points_all.dat', delimiter=' ')\n",
    "# New files:\n",
    "coords = np.genfromtxt(directory+'tadpole_points.dat', delimiter=' ')\n",
    "\n",
    "lon = coords[:,0]\n",
    "lat = coords[:,1]\n",
    "cat = coords[:,2]\n",
    "\n",
    "filename = []\n",
    "for i in range(0,len(lon)):\n",
    "    filename.append('lon'+\"{:.1f}\".format(lon[i])+'_lat'+\"{:.1f}\".format(lat[i]))\n",
    "    \n",
    "idxh = np.where(cat==1)\n",
    "idxt = np.where(cat==2)\n",
    "idxo = np.where(cat==3)"
   ]
  },
  {
   "cell_type": "code",
   "execution_count": null,
   "id": "deb9e103",
   "metadata": {},
   "outputs": [],
   "source": [
    "def make_dictionaries():\n",
    "\n",
    "    models = ['m1','m11','m2','m4']\n",
    "\n",
    "    stats  = {}\n",
    "    params = {}\n",
    "\n",
    "    for model in models:\n",
    "\n",
    "        # set up dictionary for statistics:\n",
    "        stats[model] =  {}\n",
    "        stats[model]['chiSq'] = []\n",
    "        stats[model]['chiSqRed'] = []\n",
    "        stats[model]['BIC'] = []\n",
    "\n",
    "        # set up dictionary for parameters:\n",
    "        params[model] = {}\n",
    "        with open(directory+filename[0]+'_'+model+'_pymultinest.json', 'r') as json_file:\n",
    "            qu_result = json.load(json_file)\n",
    "            for parName in qu_result[\"parNames\"]:\n",
    "                params[model][parName] = []\n",
    "\n",
    "        for file in filename:\n",
    "            with open(directory+file+'_'+model+'_pymultinest.json', 'r') as json_file:         \n",
    "                qu_result = json.load(json_file)\n",
    "\n",
    "                # Get data for stats:\n",
    "                stats[model]['chiSq'].append(qu_result[\"chiSq\"])\n",
    "                stats[model]['chiSqRed'].append(qu_result[\"chiSqRed\"])\n",
    "                stats[model]['BIC'].append(qu_result[\"BIC\"])\n",
    "\n",
    "                # Get data for parameters:\n",
    "                for parName in qu_result[\"parNames\"]:\n",
    "                    params[model][parName].append(qu_result[\"values\"][qu_result[\"parNames\"].index(parName)])\n",
    "\n",
    "        # Make everything into numpy arrays\n",
    "        stats[model]['chiSq'] = np.array(stats[model]['chiSq'])\n",
    "        stats[model]['chiSqRed'] = np.array(stats[model]['chiSqRed'])\n",
    "        stats[model]['BIC'] = np.array(stats[model]['BIC']) \n",
    "        with open(directory+filename[0]+'_'+model+'_pymultinest.json', 'r') as json_file:\n",
    "            qu_result = json.load(json_file)\n",
    "            for parName in qu_result[\"parNames\"]:\n",
    "                params[model][parName] = np.array(params[model][parName])\n",
    "                \n",
    "    return params, stats"
   ]
  },
  {
   "cell_type": "code",
   "execution_count": null,
   "id": "aeae54c2",
   "metadata": {},
   "outputs": [],
   "source": [
    "def sort_by_pol():\n",
    "    \n",
    "    print('Sorting by pol fraction...')\n",
    "    print('')\n",
    "\n",
    "    for model in ['m11','m4']:\n",
    "\n",
    "        RM1_old = params[model]['RM1_radm2']; RM1_new = RM1_old.copy()\n",
    "        RM2_old = params[model]['RM2_radm2']; RM2_new = RM2_old.copy()\n",
    "\n",
    "        pol1_old = params[model]['fracPol1']; pol1_new = pol1_old.copy()\n",
    "        pol2_old = params[model]['fracPol2']; pol2_new = pol2_old.copy()\n",
    "\n",
    "        psi01_old = params[model]['psi01_deg']; psi01_new = psi01_old.copy()\n",
    "        psi02_old = params[model]['psi02_deg']; psi02_new = psi02_old.copy()\n",
    "\n",
    "        if model == 'm4':\n",
    "            sigma1_old = params[model]['sigmaRM1_radm2']; sigma1_new = sigma1_old.copy()\n",
    "            sigma2_old = params[model]['sigmaRM2_radm2']; sigma2_new = sigma2_old.copy()\n",
    "\n",
    "        for i in range(0,len(lon)):\n",
    "            if pol1_old[i] < pol2_old[i]:\n",
    "                RM1_new[i] = RM2_old[i]\n",
    "                RM2_new[i] = RM1_old[i]\n",
    "                pol1_new[i] = pol2_old[i]\n",
    "                pol2_new[i] = pol1_old[i]\n",
    "                psi01_new[i] = psi02_old[i]\n",
    "                psi02_new[i] = psi01_old[i]\n",
    "                if model == 'm4':\n",
    "                    sigma1_new[i] = sigma2_old[i]\n",
    "                    sigma2_new[i] = sigma1_old[i]\n",
    "\n",
    "        params[model]['RM1_radm2'] = RM1_new\n",
    "        params[model]['RM2_radm2'] = RM2_new\n",
    "        params[model]['fracPol1'] = pol1_new\n",
    "        params[model]['fracPol2'] = pol2_new\n",
    "        params[model]['psi01_deg'] = psi01_new\n",
    "        params[model]['psi02_deg'] = psi02_new\n",
    "        if model == 'm4':\n",
    "            params[model]['sigmaRM1_radm2'] = sigma1_new\n",
    "            params[model]['sigmaRM2_radm2'] = sigma2_new\n",
    "\n",
    "    return params, stats"
   ]
  },
  {
   "cell_type": "code",
   "execution_count": null,
   "id": "8c724c2b",
   "metadata": {},
   "outputs": [],
   "source": [
    "sort_pol = True\n",
    "params, stats = make_dictionaries()\n",
    "if sort_pol:\n",
    "    params, stats = sort_by_pol()\n",
    "    \n",
    "print(params.keys())\n",
    "print(params['m1'].keys())\n",
    "print(params['m11'].keys())\n",
    "print(params['m2'].keys())\n",
    "print(params['m4'].keys())\n",
    "print('')\n",
    "print(stats.keys())\n",
    "print(stats['m1'].keys())\n",
    "print(stats['m11'].keys())\n",
    "print(stats['m2'].keys())\n",
    "print(stats['m4'].keys())"
   ]
  },
  {
   "cell_type": "markdown",
   "id": "fd756129",
   "metadata": {},
   "source": [
    "## Keep only high fractional pol points for 2FD+DP model secondary peaks:"
   ]
  },
  {
   "cell_type": "code",
   "execution_count": null,
   "id": "caf9fae6",
   "metadata": {},
   "outputs": [],
   "source": [
    "QU_good = np.where(params['m4']['fracPol2']>0.1)\n",
    "print(QU_good)"
   ]
  },
  {
   "cell_type": "code",
   "execution_count": null,
   "id": "aafee8fd-c6b6-4154-ba9f-a8ecd0ada5d6",
   "metadata": {},
   "outputs": [],
   "source": [
    "# Old result (Nov 2023):\n",
    "#(array([ 4, 11, 14, 17, 18, 19, 20, 21, 24, 25, 26, 27, 36, 39, 41, 42, 43,\n",
    "#       45, 46, 48, 49, 50]),)"
   ]
  },
  {
   "cell_type": "markdown",
   "id": "04ddf022",
   "metadata": {},
   "source": [
    "## Make the plot:"
   ]
  },
  {
   "cell_type": "code",
   "execution_count": null,
   "id": "87242cfe",
   "metadata": {},
   "outputs": [],
   "source": [
    "###############\n",
    "freq_plot = 614e6\n",
    "model = 'm4'\n",
    "lrange = [141,128]\n",
    "brange = [2,11]\n",
    "fs = 20\n",
    "###############\n",
    "\n",
    "idx = WCS(hdrPA).wcs_world2pix(0,0,freq_plot,0)[2]\n",
    "idx = int(np.round(idx,0))\n",
    "print(idx, freq[idx])\n",
    "\n",
    "crange = SkyCoord(lrange, brange, frame=Galactic, unit=\"deg\")\n",
    "\n",
    "fig = plt.figure(figsize=(10,12))\n",
    "ax1 = fig.add_subplot(211, projection=WCS(hdr2D).celestial)\n",
    "ax2 = fig.add_subplot(212, projection=WCS(hdr2D).celestial)\n",
    "\n",
    "fig.subplots_adjust(left=0.04,right=0.88,bottom=0.08,top=0.96)\n",
    "\n",
    "ims = []\n",
    "c = SkyCoord(lon, lat, frame=Galactic, unit=\"deg\")\n",
    "pixels = WCS(hdr2D).world_to_pixel(c)\n",
    "i = np.round(pixels[0],0).astype(int)\n",
    "j = np.round(pixels[1],0).astype(int)\n",
    "    \n",
    "ims.append(ax1.scatter(i,j,s=150,c=params[model]['RM1_radm2'],cmap='RdBu_r',vmin=-10,vmax=10,\n",
    "           zorder=100,edgecolor='k'))\n",
    "ax1.imshow(peak,origin='lower',vmin=-10,vmax=10,cmap='RdBu_r')\n",
    "\n",
    "cmap = plt.cm.get_cmap(\"RdBu_r\").copy()\n",
    "cmap.set_bad('lightgray')\n",
    "ims.append(ax2.scatter(i[QU_good],j[QU_good],s=150,c=params[model]['RM2_radm2'][QU_good],\n",
    "                       cmap=cmap,vmin=-15,vmax=15,zorder=100,edgecolor='k'))\n",
    "ax2.imshow(peak2_good,origin='lower',vmin=-15,vmax=15,cmap=cmap)\n",
    "\n",
    "cbars = []\n",
    "i=0\n",
    "for ax in [ax1,ax2]:\n",
    "    \n",
    "\n",
    "    ax.contour(0.5*np.arctan2(U[idx],Q[idx]), levels=[-np.pi/8], colors='black')\n",
    "    ax.set_ylabel('Galactic Latitude',fontsize=fs+2)\n",
    "\n",
    "    ax.set_xlim(WCS(hdr2D).world_to_pixel(crange)[0])\n",
    "    ax.set_ylim(WCS(hdr2D).world_to_pixel(crange)[1])\n",
    "    \n",
    "    cbars.append(fig.colorbar(ims[i],ax=ax,orientation='vertical',fraction=0.035,pad=0.02,aspect=20))\n",
    "    cbars[i].ax.tick_params(axis='y', which='both',labelsize=fs+2)\n",
    "    cbars[i].set_label('[rad m$^{-2}$]', fontsize=fs+2)\n",
    "    i=i+1\n",
    "    \n",
    "    ax.tick_params(axis='both', which='major', labelsize=fs, zorder=30, length=5)\n",
    "    ax.coords[0].display_minor_ticks(True)\n",
    "    ax.coords[1].display_minor_ticks(True)\n",
    "    ax.coords.frame.set_linewidth(1)\n",
    "\n",
    "ax2.set_xlabel('Galactic Longitude',fontsize=fs+2)\n",
    "ax1.set_title('First peak',fontsize=fs+4)\n",
    "ax2.set_title('Second peak',fontsize=fs+4)\n",
    "ax1.set_xlabel(' ',fontsize=fs)\n",
    "\n",
    "cbars[0].set_ticks([-10,-5,0,5,10])\n",
    "cbars[1].set_ticks([-15,-10,-5,0,5,10,15])\n",
    "\n",
    "if save_plot:\n",
    "    #plt.savefig('/srv/data/chime/tadpole_cutout/QU_fitting_plots_Nov14/RMsynth_QU_dots.png')\n",
    "    plt.savefig('/srv/data/chime/tadpole_cutout_Mar2024/QU_fitting_plots_Mar112024/RMsynth_QU_dots.pdf')"
   ]
  },
  {
   "cell_type": "code",
   "execution_count": null,
   "id": "b179f31c-ed6c-4128-8288-68d813104bcb",
   "metadata": {},
   "outputs": [],
   "source": [
    "fig,axs = plt.subplots(4,2,figsize=(16,16))\n",
    "\n",
    "labels = ['head','tail','off']\n",
    "\n",
    "for i in range(0,3):\n",
    "    axs[0,0].scatter(lon[cat==i+1],params[model]['RM1_radm2'][cat==i+1],label=labels[i])\n",
    "    axs[0,1].scatter(lon[cat==i+1],params[model]['RM2_radm2'][cat==i+1],label=labels[i])\n",
    "    axs[0,0].legend()\n",
    "    axs[0,0].set_ylabel(r'Faraday depth (rad/m$^2$)')\n",
    "\n",
    "    axs[1,0].scatter(lon[cat==i+1],params[model]['fracPol1'][cat==i+1])\n",
    "    axs[1,1].scatter(lon[cat==i+1],params[model]['fracPol2'][cat==i+1])\n",
    "    axs[1,0].set_ylabel('polarised fraction')\n",
    "\n",
    "    axs[2,0].scatter(lon[cat==i+1],params[model]['sigmaRM1_radm2'][cat==i+1])\n",
    "    axs[2,1].scatter(lon[cat==i+1],params[model]['sigmaRM2_radm2'][cat==i+1])\n",
    "    axs[2,0].set_ylabel(r'depolarisation, $\\sigma_{RM}$ (rad/m$^2$)')\n",
    "\n",
    "    axs[3,0].scatter(lon[cat==i+1],params[model]['psi01_deg'][cat==i+1])\n",
    "    axs[3,1].scatter(lon[cat==i+1],params[model]['psi02_deg'][cat==i+1])\n",
    "    axs[3,0].set_ylabel('intrinsic polarisation angle (deg)')\n",
    "\n",
    "    axs[0,0].set_title('Primary component')\n",
    "    axs[0,1].set_title('Secondary component')\n",
    "\n",
    "for j in range(0,2):\n",
    "    for i in range(0,4):\n",
    "        axs[i,j].set_xlim(142,128)\n",
    "        axs[i,j].grid()\n",
    "    axs[0,j].set_ylim(-15,15)\n",
    "    axs[1,j].set_ylim(0,1)\n",
    "    axs[2,j].set_ylim(0,4)\n",
    "    axs[3,j].set_ylim(0,180)\n",
    "    axs[1,j].axhline(y=0.1,color='k',linestyle='dashed')\n",
    "    axs[3,j].set_xlabel('Galactic Longitude')\n",
    "\n",
    "#plt.savefig('/srv/data/chime/tadpole_cutout_Mar2024/QU_fitting_plots_Mar112024/QU_fit_results_vs_longitude_old.pdf')"
   ]
  },
  {
   "cell_type": "code",
   "execution_count": null,
   "id": "1587127f-13af-47a3-ade4-6fd653dbf2bc",
   "metadata": {},
   "outputs": [],
   "source": []
  }
 ],
 "metadata": {
  "kernelspec": {
   "display_name": "Python 3 (ipykernel)",
   "language": "python",
   "name": "python3"
  },
  "language_info": {
   "codemirror_mode": {
    "name": "ipython",
    "version": 3
   },
   "file_extension": ".py",
   "mimetype": "text/x-python",
   "name": "python",
   "nbconvert_exporter": "python",
   "pygments_lexer": "ipython3",
   "version": "3.11.7"
  }
 },
 "nbformat": 4,
 "nbformat_minor": 5
}
